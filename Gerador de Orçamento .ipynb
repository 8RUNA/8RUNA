{
 "cells": [
  {
   "cell_type": "markdown",
   "id": "1b7544fe",
   "metadata": {},
   "source": [
    "My First Code Python"
   ]
  },
  {
   "cell_type": "code",
   "execution_count": 1,
   "id": "1ec87e92",
   "metadata": {},
   "outputs": [
    {
     "name": "stdout",
     "output_type": "stream",
     "text": [
      "Digite a descrição do projeto: Desenvolvimento Python\n",
      "Digite o total de horas estimadas: 60\n",
      "Digite o valor da hora trabalhada: 120\n",
      "Digite o prazo estimado: 2 meses\n"
     ]
    }
   ],
   "source": [
    "projeto = input(\"Digite a descrição do projeto: \")\n",
    "horas_estimadas = input(\"Digite o total de horas estimadas: \")\n",
    "valor_hora =  input(\"Digite o valor da hora trabalhada: \")\n",
    "prazo_estimado = input(\"Digite o prazo estimado: \")\n"
   ]
  },
  {
   "cell_type": "code",
   "execution_count": 2,
   "id": "96b511ad",
   "metadata": {},
   "outputs": [],
   "source": [
    "valor_total_estimado = int(horas_estimadas) * int(valor_hora)"
   ]
  },
  {
   "cell_type": "code",
   "execution_count": 3,
   "id": "90c5f135",
   "metadata": {},
   "outputs": [
    {
     "name": "stdout",
     "output_type": "stream",
     "text": [
      "7200\n"
     ]
    }
   ],
   "source": [
    "print(valor_total_estimado)"
   ]
  },
  {
   "cell_type": "code",
   "execution_count": 7,
   "id": "d264fe73",
   "metadata": {},
   "outputs": [
    {
     "name": "stdout",
     "output_type": "stream",
     "text": [
      "Requirement already satisfied: fpdf in c:\\users\\bruna\\anaconda3\\lib\\site-packages (1.7.2)\n"
     ]
    }
   ],
   "source": [
    "!pip install fpdf"
   ]
  },
  {
   "cell_type": "code",
   "execution_count": 8,
   "id": "8c129f73",
   "metadata": {},
   "outputs": [],
   "source": [
    "from fpdf import FPDF"
   ]
  },
  {
   "cell_type": "code",
   "execution_count": 9,
   "id": "7932fad6",
   "metadata": {},
   "outputs": [],
   "source": [
    "pdf = FPDF()\n",
    "pdf.add_page()\n",
    "pdf.set_font(\"Arial\")"
   ]
  },
  {
   "cell_type": "code",
   "execution_count": 11,
   "id": "e805b97d",
   "metadata": {},
   "outputs": [],
   "source": [
    "pdf.image(\"template.png\", x=0, y=0)\n",
    "\n",
    "pdf.text(115, 145, projeto)\n",
    "pdf.text(115, 160, horas_estimadas )\n",
    "pdf.text(115, 175, valor_hora)\n",
    "pdf.text(115, 190, prazo_estimado)\n",
    "pdf.text(115, 205, str(valor_total_estimado))"
   ]
  },
  {
   "cell_type": "code",
   "execution_count": 12,
   "id": "a7738732",
   "metadata": {},
   "outputs": [
    {
     "name": "stdout",
     "output_type": "stream",
     "text": [
      "Orçamento gerado com sucesso!\n"
     ]
    }
   ],
   "source": [
    "pdf.output(\"orçamento.pdf\")\n",
    "print(\"Orçamento gerado com sucesso!\")"
   ]
  },
  {
   "cell_type": "code",
   "execution_count": null,
   "id": "0295d76f",
   "metadata": {},
   "outputs": [],
   "source": []
  },
  {
   "cell_type": "code",
   "execution_count": null,
   "id": "ea5a7275",
   "metadata": {},
   "outputs": [],
   "source": []
  }
 ],
 "metadata": {
  "kernelspec": {
   "display_name": "Python 3 (ipykernel)",
   "language": "python",
   "name": "python3"
  },
  "language_info": {
   "codemirror_mode": {
    "name": "ipython",
    "version": 3
   },
   "file_extension": ".py",
   "mimetype": "text/x-python",
   "name": "python",
   "nbconvert_exporter": "python",
   "pygments_lexer": "ipython3",
   "version": "3.10.9"
  }
 },
 "nbformat": 4,
 "nbformat_minor": 5
}
